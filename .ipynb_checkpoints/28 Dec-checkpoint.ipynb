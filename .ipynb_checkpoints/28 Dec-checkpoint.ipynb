{
 "cells": [
  {
   "cell_type": "code",
   "execution_count": 1,
   "id": "5ee693ec",
   "metadata": {},
   "outputs": [],
   "source": [
    "import numpy as np"
   ]
  },
  {
   "cell_type": "markdown",
   "id": "9865ef0a",
   "metadata": {},
   "source": [
    "AND Gate"
   ]
  },
  {
   "cell_type": "code",
   "execution_count": 2,
   "id": "27700b5e",
   "metadata": {},
   "outputs": [],
   "source": [
    "input = np.array([[0,0],[0,1],[1,0],[1,1]])\n",
    "output = np.array([[0],[0],[0],[1]])"
   ]
  },
  {
   "cell_type": "code",
   "execution_count": 9,
   "id": "9a44269c",
   "metadata": {},
   "outputs": [],
   "source": [
    "step_func = lambda x : 1 if x >= 1.5 else 0"
   ]
  },
  {
   "cell_type": "code",
   "execution_count": 19,
   "id": "8d96f342",
   "metadata": {},
   "outputs": [],
   "source": [
    "predicted = []\n",
    "for i in input:\n",
    "    sum = np.sum(i)\n",
    "    predicted.append(step_func(sum))"
   ]
  },
  {
   "cell_type": "code",
   "execution_count": 20,
   "id": "a097c92c",
   "metadata": {},
   "outputs": [],
   "source": [
    "pred = np.array(predicted)"
   ]
  },
  {
   "cell_type": "code",
   "execution_count": 23,
   "id": "1cdfa781",
   "metadata": {},
   "outputs": [
    {
     "name": "stdout",
     "output_type": "stream",
     "text": [
      "[0 0] -- [0] -- 0\n",
      "[0 1] -- [0] -- 0\n",
      "[1 0] -- [0] -- 0\n",
      "[1 1] -- [1] -- 1\n"
     ]
    }
   ],
   "source": [
    "for i, j, k in zip(input, output, pred):\n",
    "    print(i, \"--\", j, \"--\", k)"
   ]
  },
  {
   "cell_type": "markdown",
   "id": "a5869576",
   "metadata": {},
   "source": [
    "OR Gate"
   ]
  },
  {
   "cell_type": "code",
   "execution_count": 24,
   "id": "56e13e5d",
   "metadata": {},
   "outputs": [],
   "source": [
    "input = np.array([[0,0],[0,1],[1,0],[1,1]])\n",
    "output = np.array([[0],[1],[1],[1]])"
   ]
  },
  {
   "cell_type": "code",
   "execution_count": 25,
   "id": "d962c05f",
   "metadata": {},
   "outputs": [],
   "source": [
    "step_func = lambda x : 1 if x >=1 else 0"
   ]
  },
  {
   "cell_type": "code",
   "execution_count": 26,
   "id": "d2afafd0",
   "metadata": {},
   "outputs": [],
   "source": [
    "predicted = []\n",
    "for i in input:\n",
    "    sum = np.sum(i)\n",
    "    predicted.append(step_func(sum))"
   ]
  },
  {
   "cell_type": "code",
   "execution_count": 30,
   "id": "29cc7d02",
   "metadata": {},
   "outputs": [],
   "source": [
    "pred = np.array(predicted)"
   ]
  },
  {
   "cell_type": "code",
   "execution_count": 31,
   "id": "4da2018a",
   "metadata": {},
   "outputs": [
    {
     "name": "stdout",
     "output_type": "stream",
     "text": [
      "[0 0] -- [0] -- 0\n",
      "[0 1] -- [1] -- 1\n",
      "[1 0] -- [1] -- 1\n",
      "[1 1] -- [1] -- 1\n"
     ]
    }
   ],
   "source": [
    "for i, j, k in zip(input, output, pred):\n",
    "    print(i,\"--\", j,\"--\", k)"
   ]
  },
  {
   "cell_type": "code",
   "execution_count": null,
   "id": "2c84df2b",
   "metadata": {},
   "outputs": [],
   "source": []
  },
  {
   "cell_type": "code",
   "execution_count": 58,
   "id": "31ff0dd6",
   "metadata": {},
   "outputs": [],
   "source": [
    "class McCulloch_Pitts:\n",
    "    def __init__(self, threshold):\n",
    "        self.threshold = threshold\n",
    "        \n",
    "    def training(self, input):\n",
    "        if np.sum(i) >= self.threshold:\n",
    "            return 1\n",
    "        else:\n",
    "            return 0"
   ]
  },
  {
   "cell_type": "code",
   "execution_count": 59,
   "id": "abcc7cec",
   "metadata": {},
   "outputs": [],
   "source": [
    "input = np.array([[0,0],[0,1],[1,0],[1,1]])"
   ]
  },
  {
   "cell_type": "code",
   "execution_count": 60,
   "id": "52da8a26",
   "metadata": {},
   "outputs": [
    {
     "name": "stdout",
     "output_type": "stream",
     "text": [
      "Input [0 0] Output 0\n",
      "Input [0 1] Output 0\n",
      "Input [1 0] Output 0\n",
      "Input [1 1] Output 1\n"
     ]
    }
   ],
   "source": [
    "and_gate = McCulloch_Pitts(1.5)\n",
    "for i in input:\n",
    "    op = and_gate.training(i)\n",
    "    print(\"Input\",i,\"Output\",op)"
   ]
  },
  {
   "cell_type": "code",
   "execution_count": 61,
   "id": "fddf7e26",
   "metadata": {},
   "outputs": [
    {
     "name": "stdout",
     "output_type": "stream",
     "text": [
      "Input [0 0] Output 0\n",
      "Input [0 1] Output 1\n",
      "Input [1 0] Output 1\n",
      "Input [1 1] Output 1\n"
     ]
    }
   ],
   "source": [
    "or_gate = McCulloch_Pitts(1)\n",
    "for i in input:\n",
    "    op = or_gate.training(i)\n",
    "    print(\"Input\",i,\"Output\",op)"
   ]
  },
  {
   "cell_type": "code",
   "execution_count": 76,
   "id": "d2410741",
   "metadata": {},
   "outputs": [],
   "source": [
    "new_inp = np.array([[0,0],[0,1],[1,0],[1,1]])\n",
    "weights = np.random.rand(4)\n",
    "bias = np.ones(4).reshape(-1,1)"
   ]
  },
  {
   "cell_type": "code",
   "execution_count": 77,
   "id": "cf2ee831",
   "metadata": {},
   "outputs": [
    {
     "data": {
      "text/plain": [
       "array([0.59985508, 0.40411576, 0.69170866, 0.5814035 ])"
      ]
     },
     "execution_count": 77,
     "metadata": {},
     "output_type": "execute_result"
    }
   ],
   "source": [
    "weights"
   ]
  },
  {
   "cell_type": "code",
   "execution_count": 78,
   "id": "b00a397f",
   "metadata": {},
   "outputs": [
    {
     "data": {
      "text/plain": [
       "array([[1.],\n",
       "       [1.],\n",
       "       [1.],\n",
       "       [1.]])"
      ]
     },
     "execution_count": 78,
     "metadata": {},
     "output_type": "execute_result"
    }
   ],
   "source": [
    "bias"
   ]
  },
  {
   "cell_type": "code",
   "execution_count": 79,
   "id": "e2d41032",
   "metadata": {},
   "outputs": [],
   "source": [
    "step_function = lambda x : 1 if x >=30 else 0"
   ]
  },
  {
   "cell_type": "code",
   "execution_count": 80,
   "id": "961c4175",
   "metadata": {},
   "outputs": [],
   "source": [
    "learning_rate = 0.5"
   ]
  },
  {
   "cell_type": "code",
   "execution_count": 90,
   "id": "222418e6",
   "metadata": {},
   "outputs": [
    {
     "ename": "NameError",
     "evalue": "name 'y_pred' is not defined",
     "output_type": "error",
     "traceback": [
      "\u001b[1;31m---------------------------------------------------------------------------\u001b[0m",
      "\u001b[1;31mNameError\u001b[0m                                 Traceback (most recent call last)",
      "Cell \u001b[1;32mIn[90], line 3\u001b[0m\n\u001b[0;32m      1\u001b[0m \u001b[38;5;28;01mfor\u001b[39;00m i, j \u001b[38;5;129;01min\u001b[39;00m \u001b[38;5;28mzip\u001b[39m(\u001b[38;5;28minput\u001b[39m, weights):\n\u001b[0;32m      2\u001b[0m     pred \u001b[38;5;241m=\u001b[39m np\u001b[38;5;241m.\u001b[39msum(np\u001b[38;5;241m.\u001b[39mdot(i, j))\n\u001b[1;32m----> 3\u001b[0m     y_pred\u001b[38;5;241m.\u001b[39mappend(step_function(pred))\n",
      "\u001b[1;31mNameError\u001b[0m: name 'y_pred' is not defined"
     ]
    }
   ],
   "source": [
    "y_pred = []\n",
    "for i, j in zip(input, weights):\n",
    "    pred = np.sum(np.dot(i, j))\n",
    "    y_pred.append(step_function(pred))"
   ]
  },
  {
   "cell_type": "code",
   "execution_count": null,
   "id": "71b965ac",
   "metadata": {},
   "outputs": [],
   "source": []
  },
  {
   "cell_type": "code",
   "execution_count": null,
   "id": "b464ef44",
   "metadata": {},
   "outputs": [],
   "source": []
  }
 ],
 "metadata": {
  "kernelspec": {
   "display_name": "Python 3 (ipykernel)",
   "language": "python",
   "name": "python3"
  },
  "language_info": {
   "codemirror_mode": {
    "name": "ipython",
    "version": 3
   },
   "file_extension": ".py",
   "mimetype": "text/x-python",
   "name": "python",
   "nbconvert_exporter": "python",
   "pygments_lexer": "ipython3",
   "version": "3.11.4"
  }
 },
 "nbformat": 4,
 "nbformat_minor": 5
}
