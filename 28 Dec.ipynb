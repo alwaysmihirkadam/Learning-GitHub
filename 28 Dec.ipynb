{
 "cells": [
  {
   "cell_type": "code",
   "execution_count": 1,
   "id": "643b5044",
   "metadata": {},
   "outputs": [],
   "source": [
    "import numpy as np"
   ]
  },
  {
   "cell_type": "code",
   "execution_count": 96,
   "id": "d6212652",
   "metadata": {},
   "outputs": [],
   "source": [
    "input = np.array([[0,0],[0,1],[1,0],[1,1]])\n",
    "output = np.array([[0],[0],[0],[1]])"
   ]
  },
  {
   "cell_type": "markdown",
   "id": "89a7a1b0",
   "metadata": {},
   "source": [
    "AND Gate"
   ]
  },
  {
   "cell_type": "code",
   "execution_count": 9,
   "id": "5e6674a5",
   "metadata": {},
   "outputs": [],
   "source": [
    "step_func = lambda x : 1 if x >= 1.5 else 0"
   ]
  },
  {
   "cell_type": "code",
   "execution_count": 19,
   "id": "76b1d186",
   "metadata": {},
   "outputs": [],
   "source": [
    "predicted = []\n",
    "for i in input:\n",
    "    sum = np.sum(i)\n",
    "    predicted.append(step_func(sum))"
   ]
  },
  {
   "cell_type": "code",
   "execution_count": 20,
   "id": "a61ef7fb",
   "metadata": {},
   "outputs": [],
   "source": [
    "pred = np.array(predicted)"
   ]
  },
  {
   "cell_type": "code",
   "execution_count": 23,
   "id": "46cd264f",
   "metadata": {},
   "outputs": [
    {
     "name": "stdout",
     "output_type": "stream",
     "text": [
      "[0 0] -- [0] -- 0\n",
      "[0 1] -- [0] -- 0\n",
      "[1 0] -- [0] -- 0\n",
      "[1 1] -- [1] -- 1\n"
     ]
    }
   ],
   "source": [
    "for i, j, k in zip(input, output, pred):\n",
    "    print(i, \"--\", j, \"--\", k)"
   ]
  },
  {
   "cell_type": "markdown",
   "id": "b7f35b1e",
   "metadata": {},
   "source": [
    "OR Gate"
   ]
  },
  {
   "cell_type": "code",
   "execution_count": 25,
   "id": "38ccf3a4",
   "metadata": {},
   "outputs": [],
   "source": [
    "step_func = lambda x : 1 if x >=1 else 0"
   ]
  },
  {
   "cell_type": "code",
   "execution_count": 26,
   "id": "620b8e8a",
   "metadata": {},
   "outputs": [],
   "source": [
    "predicted = []\n",
    "for i in input:\n",
    "    sum = np.sum(i)\n",
    "    predicted.append(step_func(sum))"
   ]
  },
  {
   "cell_type": "code",
   "execution_count": 30,
   "id": "2c53dbad",
   "metadata": {},
   "outputs": [],
   "source": [
    "pred = np.array(predicted)"
   ]
  },
  {
   "cell_type": "code",
   "execution_count": 31,
   "id": "e9999c8f",
   "metadata": {},
   "outputs": [
    {
     "name": "stdout",
     "output_type": "stream",
     "text": [
      "[0 0] -- [0] -- 0\n",
      "[0 1] -- [1] -- 1\n",
      "[1 0] -- [1] -- 1\n",
      "[1 1] -- [1] -- 1\n"
     ]
    }
   ],
   "source": [
    "for i, j, k in zip(input, output, pred):\n",
    "    print(i,\"--\", j,\"--\", k)"
   ]
  },
  {
   "cell_type": "code",
   "execution_count": null,
   "id": "be8da6a9",
   "metadata": {},
   "outputs": [],
   "source": []
  },
  {
   "cell_type": "code",
   "execution_count": 58,
   "id": "b5077b6b",
   "metadata": {},
   "outputs": [],
   "source": [
    "class McCulloch_Pitts:\n",
    "    def __init__(self, threshold):\n",
    "        self.threshold = threshold\n",
    "        \n",
    "    def training(self, input):\n",
    "        if np.sum(i) >= self.threshold:\n",
    "            return 1\n",
    "        else:\n",
    "            return 0"
   ]
  },
  {
   "cell_type": "code",
   "execution_count": 59,
   "id": "40117220",
   "metadata": {},
   "outputs": [],
   "source": [
    "input = np.array([[0,0],[0,1],[1,0],[1,1]])"
   ]
  },
  {
   "cell_type": "code",
   "execution_count": 60,
   "id": "01d7938c",
   "metadata": {},
   "outputs": [
    {
     "name": "stdout",
     "output_type": "stream",
     "text": [
      "Input [0 0] Output 0\n",
      "Input [0 1] Output 0\n",
      "Input [1 0] Output 0\n",
      "Input [1 1] Output 1\n"
     ]
    }
   ],
   "source": [
    "and_gate = McCulloch_Pitts(1.5)\n",
    "for i in input:\n",
    "    op = and_gate.training(i)\n",
    "    print(\"Input\",i,\"Output\",op)"
   ]
  },
  {
   "cell_type": "code",
   "execution_count": 61,
   "id": "3e5760e9",
   "metadata": {},
   "outputs": [
    {
     "name": "stdout",
     "output_type": "stream",
     "text": [
      "Input [0 0] Output 0\n",
      "Input [0 1] Output 1\n",
      "Input [1 0] Output 1\n",
      "Input [1 1] Output 1\n"
     ]
    }
   ],
   "source": [
    "or_gate = McCulloch_Pitts(1)\n",
    "for i in input:\n",
    "    op = or_gate.training(i)\n",
    "    print(\"Input\",i,\"Output\",op)"
   ]
  },
  {
   "cell_type": "code",
   "execution_count": 76,
   "id": "5f00551a",
   "metadata": {},
   "outputs": [],
   "source": [
    "new_inp = np.array([[0,0],[0,1],[1,0],[1,1]])\n",
    "weights = np.random.rand(4)\n",
    "bias = np.ones(4).reshape(-1,1)"
   ]
  },
  {
   "cell_type": "code",
   "execution_count": 77,
   "id": "3408e643",
   "metadata": {},
   "outputs": [
    {
     "data": {
      "text/plain": [
       "array([0.59985508, 0.40411576, 0.69170866, 0.5814035 ])"
      ]
     },
     "execution_count": 77,
     "metadata": {},
     "output_type": "execute_result"
    }
   ],
   "source": [
    "weights"
   ]
  },
  {
   "cell_type": "code",
   "execution_count": 78,
   "id": "637adc0f",
   "metadata": {},
   "outputs": [
    {
     "data": {
      "text/plain": [
       "array([[1.],\n",
       "       [1.],\n",
       "       [1.],\n",
       "       [1.]])"
      ]
     },
     "execution_count": 78,
     "metadata": {},
     "output_type": "execute_result"
    }
   ],
   "source": [
    "bias"
   ]
  },
  {
   "cell_type": "code",
   "execution_count": 79,
   "id": "6edf3169",
   "metadata": {},
   "outputs": [],
   "source": [
    "step_function = lambda x : 1 if x >=30 else 0"
   ]
  },
  {
   "cell_type": "code",
   "execution_count": 80,
   "id": "b89a0fac",
   "metadata": {},
   "outputs": [],
   "source": [
    "learning_rate = 0.5"
   ]
  },
  {
   "cell_type": "code",
   "execution_count": 100,
   "id": "1178ce38",
   "metadata": {},
   "outputs": [
    {
     "data": {
      "text/plain": [
       "array([0, 0, 0, 1])"
      ]
     },
     "execution_count": 100,
     "metadata": {},
     "output_type": "execute_result"
    }
   ],
   "source": [
    "y_pred = []\n",
    "for i, j in zip(input, weights):\n",
    "    pred = np.sum(np.dot(i, j))\n",
    "    y_pred.append(step_function(pred))\n",
    "\n",
    "error = output.ravel() - np.array(y_pred)\n",
    "error"
   ]
  },
  {
   "cell_type": "code",
   "execution_count": 102,
   "id": "22c4062a",
   "metadata": {},
   "outputs": [],
   "source": [
    "for i in range(30):\n",
    "    y_pred = []\n",
    "    for i, j in zip(input, weights):\n",
    "        pred = np.sum(np.dot(i, j))\n",
    "        y_pred.append(step_function(pred))\n",
    "\n",
    "    error = output.ravel() - np.array(y_pred)\n",
    "    if np.sum(error)!=0:\n",
    "        weights - weights *learning_rate + error\n",
    "    else:\n",
    "        print(weights)"
   ]
  },
  {
   "cell_type": "code",
   "execution_count": null,
   "id": "19a70854",
   "metadata": {},
   "outputs": [],
   "source": []
  }
 ],
 "metadata": {
  "kernelspec": {
   "display_name": "Python 3 (ipykernel)",
   "language": "python",
   "name": "python3"
  },
  "language_info": {
   "codemirror_mode": {
    "name": "ipython",
    "version": 3
   },
   "file_extension": ".py",
   "mimetype": "text/x-python",
   "name": "python",
   "nbconvert_exporter": "python",
   "pygments_lexer": "ipython3",
   "version": "3.11.4"
  }
 },
 "nbformat": 4,
 "nbformat_minor": 5
}
