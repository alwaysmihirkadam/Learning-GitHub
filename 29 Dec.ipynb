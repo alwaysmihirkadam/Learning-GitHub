{
 "cells": [
  {
   "cell_type": "code",
   "execution_count": null,
   "id": "d2ebd714",
   "metadata": {},
   "outputs": [],
   "source": [
    "import pandas as pd\n",
    "import numpy as np\n",
    "import matplotlib.pyplot as plt\n",
    "import seaborn as sns\n",
    "import warnings\n",
    "warnings.filterwarnings(\"ignore\")"
   ]
  },
  {
   "cell_type": "code",
   "execution_count": null,
   "id": "6cdc1893",
   "metadata": {},
   "outputs": [],
   "source": [
    "data = pd.read_csv(\"laptops.csv\")"
   ]
  },
  {
   "cell_type": "code",
   "execution_count": null,
   "id": "0f1144b3",
   "metadata": {},
   "outputs": [],
   "source": [
    "df = data.copy()"
   ]
  },
  {
   "cell_type": "code",
   "execution_count": null,
   "id": "d61a833e",
   "metadata": {},
   "outputs": [],
   "source": [
    "df.head()"
   ]
  },
  {
   "cell_type": "code",
   "execution_count": null,
   "id": "240e1563",
   "metadata": {},
   "outputs": [],
   "source": [
    "df.info()"
   ]
  },
  {
   "cell_type": "code",
   "execution_count": null,
   "id": "e87c9fc7",
   "metadata": {},
   "outputs": [],
   "source": [
    "df[\"CompanyName\"].value_counts()"
   ]
  },
  {
   "cell_type": "code",
   "execution_count": null,
   "id": "9f3a603f",
   "metadata": {},
   "outputs": [],
   "source": [
    "df[\"TypeOfLaptop\"].value_counts()"
   ]
  },
  {
   "cell_type": "code",
   "execution_count": null,
   "id": "7c9f6022",
   "metadata": {},
   "outputs": [],
   "source": [
    "df[\"TypeOfLaptop\"] = df[\"TypeOfLaptop\"].replace(\"Business Laptop\", \"Buisness\")\n",
    "df[\"TypeOfLaptop\"] = df[\"TypeOfLaptop\"].replace(\"2 in 1 Convertible\", \"Two_in_one\")"
   ]
  },
  {
   "cell_type": "code",
   "execution_count": null,
   "id": "168c182b",
   "metadata": {},
   "outputs": [],
   "source": [
    "df.head()"
   ]
  },
  {
   "cell_type": "code",
   "execution_count": null,
   "id": "7c2ed350",
   "metadata": {},
   "outputs": [],
   "source": [
    "df[\"Inches\"] = df[\"Inches\"].astype(\"int32\")"
   ]
  },
  {
   "cell_type": "code",
   "execution_count": null,
   "id": "bd0d5f49",
   "metadata": {},
   "outputs": [],
   "source": [
    "df.head()"
   ]
  },
  {
   "cell_type": "code",
   "execution_count": null,
   "id": "810fceea",
   "metadata": {},
   "outputs": [],
   "source": [
    "df[\"Inches\"].value_counts()"
   ]
  },
  {
   "cell_type": "code",
   "execution_count": null,
   "id": "95150fba",
   "metadata": {},
   "outputs": [],
   "source": [
    "df[\"ScreenResolution\"].value_counts()"
   ]
  },
  {
   "cell_type": "code",
   "execution_count": null,
   "id": "54af9471",
   "metadata": {},
   "outputs": [],
   "source": [
    "df[\"ScreenResolution\"] = df[\"ScreenResolution\"].replace(\"IPS Panel Full HD / Touchscreen 1920x1080\", \"TouchScreen\")\n",
    "df[\"ScreenResolution\"] = df[\"ScreenResolution\"].replace(\"Full HD\", \"FHD\")\n",
    "df[\"ScreenResolution\"] = df[\"ScreenResolution\"].replace(\"HD 1920x1080 \", \"HD\")\n",
    "df[\"ScreenResolution\"] = df[\"ScreenResolution\"].replace(\"IPS Panel Retina Display 2560x1600\", \"IPS\")"
   ]
  },
  {
   "cell_type": "code",
   "execution_count": null,
   "id": "fc25b3cd",
   "metadata": {},
   "outputs": [],
   "source": [
    "df[\"ScreenResolution\"].value_counts()"
   ]
  },
  {
   "cell_type": "code",
   "execution_count": null,
   "id": "7e870c9d",
   "metadata": {},
   "outputs": [],
   "source": [
    "df.head()"
   ]
  },
  {
   "cell_type": "code",
   "execution_count": null,
   "id": "5bacda31",
   "metadata": {},
   "outputs": [],
   "source": [
    "df[\"Cpu\"].value_counts()"
   ]
  },
  {
   "cell_type": "code",
   "execution_count": null,
   "id": "edd64a2a",
   "metadata": {},
   "outputs": [],
   "source": [
    "df[\"Cpu\"] = df[\"Cpu\"].replace(\"Intel Xeon E3-1505M \", \"Intel Xeon\")\n",
    "df[\"Cpu\"] = df[\"Cpu\"].replace(\"Intel Atom x5-Z8550\", \"Intel Atom\")\n",
    "df[\"Cpu\"] = df[\"Cpu\"].replace(\"Intel Pentium Quad Core N4200\", \"Intel Pentium\")\n",
    "df[\"Cpu\"] = df[\"Cpu\"].replace(\"Intel Celeron Dual Core 3855U \", \"Intel Celeron\")"
   ]
  },
  {
   "cell_type": "code",
   "execution_count": null,
   "id": "fe63e64d",
   "metadata": {},
   "outputs": [],
   "source": [
    "df[\"Cpu\"].value_counts()"
   ]
  },
  {
   "cell_type": "code",
   "execution_count": null,
   "id": "80bae291",
   "metadata": {},
   "outputs": [],
   "source": [
    "df.head()"
   ]
  },
  {
   "cell_type": "code",
   "execution_count": null,
   "id": "56e73e09",
   "metadata": {},
   "outputs": [],
   "source": [
    "df[\"Memory\"].value_counts()"
   ]
  },
  {
   "cell_type": "code",
   "execution_count": null,
   "id": "dc766a11",
   "metadata": {},
   "outputs": [],
   "source": [
    "df[\"Memory\"] = df[\"Memory\"].replace(\"1TB Fusion Drive\", \"1TB HDD\")\n",
    "df[\"Memory\"] = df[\"Memory\"].replace(\"2TB SATA SSD\", \"2TB SSD\")\n",
    "df[\"Memory\"] = df[\"Memory\"].replace(\"1TB SSHD\", \"1TB SSD\")\n",
    "df[\"Memory\"] = df[\"Memory\"].replace(\"512GB eMMC\", \"512GB SSD\")\n",
    "df[\"Memory\"] = df[\"Memory\"].replace(\"512GB NVMe SSD\", \"512GB SSD\")\n",
    "df[\"Memory\"] = df[\"Memory\"].replace(\"128GB PCIe SSD\", \"128GB SSD\")\n",
    "df[\"Memory\"] = df[\"Memory\"].replace(\"1TB NVMe SSD\", \"1TB SSD\")\n",
    "df[\"Memory\"] = df[\"Memory\"].replace(\"256GB Flash Storage\", \"256GB SSD\")\n",
    "df[\"Memory\"] = df[\"Memory\"].replace(\"256GB eMMC\", \"256GB SSD\")\n",
    "df[\"Memory\"] = df[\"Memory\"].replace(\"256GB PCIe SSD\", \"256GB SSD\")\n",
    "df[\"Memory\"] = df[\"Memory\"].replace(\"2TB NVMe SSD\", \"2TB SSD\")"
   ]
  },
  {
   "cell_type": "code",
   "execution_count": null,
   "id": "ed37b3f0",
   "metadata": {
    "scrolled": true
   },
   "outputs": [],
   "source": [
    "df[\"Memory\"].value_counts()"
   ]
  },
  {
   "cell_type": "code",
   "execution_count": null,
   "id": "4d461685",
   "metadata": {},
   "outputs": [],
   "source": [
    "hdd = []\n",
    "ssd = []\n",
    "\n",
    "for i in df[\"Memory\"]:\n",
    "    if i[-3:] == \"HDD\":\n",
    "        hdd.append(i)\n",
    "        ssd.append(\"0\")        \n",
    "    elif i[-3:] == \"SSD\":\n",
    "        hdd.append(\"0\")\n",
    "        ssd.append(i)        \n",
    "    else:\n",
    "        print(\"Problem Somewhere\")"
   ]
  },
  {
   "cell_type": "code",
   "execution_count": null,
   "id": "e181a2a8",
   "metadata": {},
   "outputs": [],
   "source": [
    "len(hdd)"
   ]
  },
  {
   "cell_type": "code",
   "execution_count": null,
   "id": "7fe773d3",
   "metadata": {},
   "outputs": [],
   "source": [
    "len(ssd)"
   ]
  },
  {
   "cell_type": "code",
   "execution_count": null,
   "id": "e6ec09cd",
   "metadata": {},
   "outputs": [],
   "source": [
    "df[\"HDD\"] = hdd\n",
    "df[\"SSD\"] = ssd"
   ]
  },
  {
   "cell_type": "code",
   "execution_count": null,
   "id": "146f5577",
   "metadata": {},
   "outputs": [],
   "source": [
    "df.head()"
   ]
  },
  {
   "cell_type": "code",
   "execution_count": null,
   "id": "ff5e096b",
   "metadata": {},
   "outputs": [],
   "source": [
    "df.tail(10)"
   ]
  },
  {
   "cell_type": "code",
   "execution_count": null,
   "id": "e0edcd08",
   "metadata": {},
   "outputs": [],
   "source": [
    "df.drop(\"Memory\",axis=1, inplace=True)"
   ]
  },
  {
   "cell_type": "code",
   "execution_count": null,
   "id": "9114cd13",
   "metadata": {},
   "outputs": [],
   "source": [
    "df[\"HDD\"].value_counts()"
   ]
  },
  {
   "cell_type": "code",
   "execution_count": null,
   "id": "5ff40983",
   "metadata": {},
   "outputs": [],
   "source": [
    "df[\"HDD\"] = df[\"HDD\"].replace(\"TB HDD\", \"\")"
   ]
  },
  {
   "cell_type": "code",
   "execution_count": null,
   "id": "11f75aab",
   "metadata": {},
   "outputs": [],
   "source": [
    "df[\"HDD\"].unique()"
   ]
  },
  {
   "cell_type": "code",
   "execution_count": null,
   "id": "41b677d0",
   "metadata": {},
   "outputs": [],
   "source": [
    "dummy = [i[0] for i in df[\"HDD\"]]\n",
    "dummy"
   ]
  },
  {
   "cell_type": "code",
   "execution_count": null,
   "id": "540b0457",
   "metadata": {},
   "outputs": [],
   "source": [
    "df[\"HDD\"] = dummy"
   ]
  },
  {
   "cell_type": "code",
   "execution_count": null,
   "id": "c6df3025",
   "metadata": {},
   "outputs": [],
   "source": [
    "df.head()"
   ]
  },
  {
   "cell_type": "code",
   "execution_count": null,
   "id": "7ba982e3",
   "metadata": {},
   "outputs": [],
   "source": [
    "df[\"HDD\"] = df[\"HDD\"].astype(\"int32\")"
   ]
  },
  {
   "cell_type": "code",
   "execution_count": null,
   "id": "972cee61",
   "metadata": {},
   "outputs": [],
   "source": [
    "df[\"SSD\"].value_counts()"
   ]
  },
  {
   "cell_type": "code",
   "execution_count": null,
   "id": "697ecffa",
   "metadata": {},
   "outputs": [],
   "source": [
    "dummy = [i[:-6] for i in df[\"SSD\"]]\n",
    "dummy"
   ]
  },
  {
   "cell_type": "code",
   "execution_count": null,
   "id": "c7a43fef",
   "metadata": {},
   "outputs": [],
   "source": [
    "df[\"SSD\"]= dummy"
   ]
  },
  {
   "cell_type": "code",
   "execution_count": null,
   "id": "d04485f6",
   "metadata": {},
   "outputs": [],
   "source": [
    "df[\"SSD\"] = df[\"SSD\"].replace('', \"0\")\n",
    "df[\"SSD\"] = df[\"SSD\"].replace(\"1\", \"1024\")\n",
    "df[\"SSD\"] = df[\"SSD\"].replace(\"2\", \"2048\")"
   ]
  },
  {
   "cell_type": "code",
   "execution_count": null,
   "id": "fa2dfb0b",
   "metadata": {},
   "outputs": [],
   "source": [
    "df.head()"
   ]
  },
  {
   "cell_type": "code",
   "execution_count": null,
   "id": "126733e9",
   "metadata": {},
   "outputs": [],
   "source": [
    "df.tail(10)"
   ]
  },
  {
   "cell_type": "code",
   "execution_count": null,
   "id": "443025e0",
   "metadata": {},
   "outputs": [],
   "source": [
    "df[\"SSD\"][2]"
   ]
  },
  {
   "cell_type": "code",
   "execution_count": null,
   "id": "7e18317a",
   "metadata": {},
   "outputs": [],
   "source": [
    "df[\"SSD\"] = df[\"SSD\"].astype(\"int32\")"
   ]
  },
  {
   "cell_type": "code",
   "execution_count": null,
   "id": "624c172a",
   "metadata": {},
   "outputs": [],
   "source": [
    "df.head()"
   ]
  },
  {
   "cell_type": "code",
   "execution_count": null,
   "id": "7c590c15",
   "metadata": {},
   "outputs": [],
   "source": [
    "df.info()"
   ]
  },
  {
   "cell_type": "code",
   "execution_count": null,
   "id": "09fdf47f",
   "metadata": {},
   "outputs": [],
   "source": [
    "df[\"Ram\"] = df[\"Ram\"].str.replace(\"GB\",\"\")"
   ]
  },
  {
   "cell_type": "code",
   "execution_count": null,
   "id": "e27f1ea8",
   "metadata": {},
   "outputs": [],
   "source": [
    "df.head()"
   ]
  },
  {
   "cell_type": "code",
   "execution_count": null,
   "id": "d14e6abb",
   "metadata": {},
   "outputs": [],
   "source": [
    "df[\"Gpu\"].value_counts()"
   ]
  },
  {
   "cell_type": "code",
   "execution_count": null,
   "id": "872f9d20",
   "metadata": {},
   "outputs": [],
   "source": [
    "gpu = list(map(lambda x: \"Intel\" if x[0]==\"I\" else (\"AMD\" if x[0]==\"A\" else \"NV\"),\n",
    "               df[\"Gpu\"]))\n",
    "gpu"
   ]
  },
  {
   "cell_type": "code",
   "execution_count": null,
   "id": "218456ad",
   "metadata": {},
   "outputs": [],
   "source": [
    "df[\"Gpu\"]=gpu"
   ]
  },
  {
   "cell_type": "code",
   "execution_count": null,
   "id": "60d99ca7",
   "metadata": {},
   "outputs": [],
   "source": [
    "df.head()"
   ]
  },
  {
   "cell_type": "code",
   "execution_count": null,
   "id": "f4ce1ee8",
   "metadata": {},
   "outputs": [],
   "source": [
    "df[\"OpSys\"].value_counts()"
   ]
  },
  {
   "cell_type": "code",
   "execution_count": null,
   "id": "5747f271",
   "metadata": {},
   "outputs": [],
   "source": [
    "df[\"OpSys\"] = df[\"OpSys\"].replace(\"No OS\", \"DOS\")\n",
    "df[\"OpSys\"] = df[\"OpSys\"].replace(\"Windows 10\", \"Win10\")\n",
    "df[\"OpSys\"] = df[\"OpSys\"].replace(\"Windows 11\", \"Win11\")"
   ]
  },
  {
   "cell_type": "code",
   "execution_count": null,
   "id": "573341d4",
   "metadata": {},
   "outputs": [],
   "source": [
    "df.head()"
   ]
  },
  {
   "cell_type": "code",
   "execution_count": null,
   "id": "1d19d0c5",
   "metadata": {
    "scrolled": true
   },
   "outputs": [],
   "source": [
    "cols = df.columns.tolist()\n",
    "cols"
   ]
  },
  {
   "cell_type": "code",
   "execution_count": null,
   "id": "354007bb",
   "metadata": {},
   "outputs": [],
   "source": [
    "new_df = pd.DataFrame()"
   ]
  },
  {
   "cell_type": "code",
   "execution_count": null,
   "id": "09d1d7ca",
   "metadata": {},
   "outputs": [],
   "source": [
    "new_df[['CompanyName','TypeOfLaptop','Inches','ScreenResolution','Cpu','Ram','Gpu','OpSys','Weight','HDD','SSD','Price']] = df[['CompanyName','TypeOfLaptop','Inches','ScreenResolution','Cpu','Ram','Gpu','OpSys','Weight','HDD','SSD','Price']]"
   ]
  },
  {
   "cell_type": "code",
   "execution_count": null,
   "id": "1316b1f1",
   "metadata": {},
   "outputs": [],
   "source": [
    "new_df.head()"
   ]
  },
  {
   "cell_type": "code",
   "execution_count": null,
   "id": "ee28a263",
   "metadata": {},
   "outputs": [],
   "source": [
    "new_df[\"Ram\"] = new_df[\"Ram\"].astype(\"int32\")"
   ]
  },
  {
   "cell_type": "code",
   "execution_count": null,
   "id": "0be05b34",
   "metadata": {},
   "outputs": [],
   "source": [
    "new_df.info()"
   ]
  },
  {
   "cell_type": "code",
   "execution_count": null,
   "id": "55cf660a",
   "metadata": {
    "scrolled": true
   },
   "outputs": [],
   "source": [
    "avg_price_type = new_df.groupby(\"TypeOfLaptop\")[\"Price\"].mean()"
   ]
  },
  {
   "cell_type": "code",
   "execution_count": null,
   "id": "e95d233b",
   "metadata": {},
   "outputs": [],
   "source": [
    "type(avg_price_type)"
   ]
  },
  {
   "cell_type": "code",
   "execution_count": null,
   "id": "de30dbd8",
   "metadata": {},
   "outputs": [],
   "source": [
    "avg_price_type.index"
   ]
  },
  {
   "cell_type": "code",
   "execution_count": null,
   "id": "48a3c03a",
   "metadata": {},
   "outputs": [],
   "source": [
    "avg_price_type.values"
   ]
  },
  {
   "cell_type": "code",
   "execution_count": null,
   "id": "a954060c",
   "metadata": {},
   "outputs": [],
   "source": [
    "sns.barplot(new_df, x=avg_price_type.index, y=avg_price_type.values)"
   ]
  },
  {
   "cell_type": "code",
   "execution_count": null,
   "id": "d6f48c23",
   "metadata": {},
   "outputs": [],
   "source": [
    "new_df.head()"
   ]
  },
  {
   "cell_type": "code",
   "execution_count": null,
   "id": "6358c8a6",
   "metadata": {},
   "outputs": [],
   "source": [
    "new_df[\"Price\"].plot.box()"
   ]
  },
  {
   "cell_type": "code",
   "execution_count": null,
   "id": "512c9540",
   "metadata": {},
   "outputs": [],
   "source": [
    "new_df[\"Price\"].quantile(0.99)"
   ]
  },
  {
   "cell_type": "code",
   "execution_count": null,
   "id": "65324fd7",
   "metadata": {},
   "outputs": [],
   "source": []
  }
 ],
 "metadata": {
  "kernelspec": {
   "display_name": "Python 3 (ipykernel)",
   "language": "python",
   "name": "python3"
  },
  "language_info": {
   "codemirror_mode": {
    "name": "ipython",
    "version": 3
   },
   "file_extension": ".py",
   "mimetype": "text/x-python",
   "name": "python",
   "nbconvert_exporter": "python",
   "pygments_lexer": "ipython3",
   "version": "3.11.4"
  }
 },
 "nbformat": 4,
 "nbformat_minor": 5
}
