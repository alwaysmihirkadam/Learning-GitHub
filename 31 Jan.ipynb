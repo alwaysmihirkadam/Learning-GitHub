{
 "cells": [
  {
   "cell_type": "code",
   "execution_count": 1,
   "id": "239a6e40",
   "metadata": {},
   "outputs": [
    {
     "name": "stdout",
     "output_type": "stream",
     "text": [
      "Collecting python-constraint\n",
      "  Downloading python-constraint-1.4.0.tar.bz2 (18 kB)\n",
      "  Preparing metadata (setup.py): started\n",
      "  Preparing metadata (setup.py): finished with status 'done'\n",
      "Building wheels for collected packages: python-constraint\n",
      "  Building wheel for python-constraint (setup.py): started\n",
      "  Building wheel for python-constraint (setup.py): finished with status 'done'\n",
      "  Created wheel for python-constraint: filename=python_constraint-1.4.0-py2.py3-none-any.whl size=24083 sha256=c41bc2435312154a6effaca4658d0231fe3cf6146e4872493497f6ccbd1a421a\n",
      "  Stored in directory: c:\\users\\hp\\appdata\\local\\pip\\cache\\wheels\\1e\\af\\a9\\990ae7e6a78319b7d7afaab2d14e7e5ae349d5613db5ae28fd\n",
      "Successfully built python-constraint\n",
      "Installing collected packages: python-constraint\n",
      "Successfully installed python-constraint-1.4.0\n",
      "Note: you may need to restart the kernel to use updated packages.\n"
     ]
    }
   ],
   "source": [
    "pip install python-constraint"
   ]
  },
  {
   "cell_type": "code",
   "execution_count": 3,
   "id": "43faa57f",
   "metadata": {},
   "outputs": [],
   "source": [
    "from constraint import Problem, AllDifferentConstraint"
   ]
  },
  {
   "cell_type": "code",
   "execution_count": 7,
   "id": "a53fa602",
   "metadata": {},
   "outputs": [],
   "source": [
    "def color_map():\n",
    "    problem = Problem()\n",
    "    \n",
    "    divisions = [\"Aurangabad\",\"Nashik\",\"Pune\",\"Konkan\",\"Nagpur\",\"Amravati\"]\n",
    "    \n",
    "    colors = [\"Red\",\"Green\",\"Blue\"]\n",
    "    \n",
    "    problem.addVariables(divisions, colors)\n",
    "    \n",
    "    cnst = [(\"Aurangabad\",\"Nashik\"), (\"Aurangabad\",\"Pune\"),(\"Aurangabad\",\"Amravati\"),\n",
    "            (\"Pune\",\"Konkan\"),(\"Pune\",\"Nashik\"),(\"Pune\",\"Amravati\"),\n",
    "           (\"Amravati\",\"Nagpur\"),(\"Nashik\",\"Konkan\")]\n",
    "    \n",
    "    for div in cnst:\n",
    "        problem.addConstraint(lambda x, y:x != y, div)\n",
    "        \n",
    "    solver = problem.getSolutions()\n",
    "    \n",
    "    return solver"
   ]
  },
  {
   "cell_type": "code",
   "execution_count": 9,
   "id": "f0cd16e3",
   "metadata": {},
   "outputs": [],
   "source": [
    "solutions = color_map()"
   ]
  },
  {
   "cell_type": "code",
   "execution_count": 14,
   "id": "89756c91",
   "metadata": {},
   "outputs": [
    {
     "name": "stdout",
     "output_type": "stream",
     "text": [
      "Solution 1 : {'Pune': 'Blue', 'Amravati': 'Green', 'Aurangabad': 'Red', 'Nashik': 'Green', 'Konkan': 'Red', 'Nagpur': 'Blue'}\n",
      "Solution 2 : {'Pune': 'Blue', 'Amravati': 'Green', 'Aurangabad': 'Red', 'Nashik': 'Green', 'Konkan': 'Red', 'Nagpur': 'Red'}\n",
      "Solution 3 : {'Pune': 'Blue', 'Amravati': 'Red', 'Aurangabad': 'Green', 'Nashik': 'Red', 'Konkan': 'Green', 'Nagpur': 'Green'}\n",
      "Solution 4 : {'Pune': 'Blue', 'Amravati': 'Red', 'Aurangabad': 'Green', 'Nashik': 'Red', 'Konkan': 'Green', 'Nagpur': 'Blue'}\n",
      "Solution 5 : {'Pune': 'Green', 'Amravati': 'Blue', 'Aurangabad': 'Red', 'Nashik': 'Blue', 'Konkan': 'Red', 'Nagpur': 'Red'}\n",
      "Solution 6 : {'Pune': 'Green', 'Amravati': 'Blue', 'Aurangabad': 'Red', 'Nashik': 'Blue', 'Konkan': 'Red', 'Nagpur': 'Green'}\n",
      "Solution 7 : {'Pune': 'Green', 'Amravati': 'Red', 'Aurangabad': 'Blue', 'Nashik': 'Red', 'Konkan': 'Blue', 'Nagpur': 'Blue'}\n",
      "Solution 8 : {'Pune': 'Green', 'Amravati': 'Red', 'Aurangabad': 'Blue', 'Nashik': 'Red', 'Konkan': 'Blue', 'Nagpur': 'Green'}\n",
      "Solution 9 : {'Pune': 'Red', 'Amravati': 'Green', 'Aurangabad': 'Blue', 'Nashik': 'Green', 'Konkan': 'Blue', 'Nagpur': 'Red'}\n",
      "Solution 10 : {'Pune': 'Red', 'Amravati': 'Green', 'Aurangabad': 'Blue', 'Nashik': 'Green', 'Konkan': 'Blue', 'Nagpur': 'Blue'}\n",
      "Solution 11 : {'Pune': 'Red', 'Amravati': 'Blue', 'Aurangabad': 'Green', 'Nashik': 'Blue', 'Konkan': 'Green', 'Nagpur': 'Green'}\n",
      "Solution 12 : {'Pune': 'Red', 'Amravati': 'Blue', 'Aurangabad': 'Green', 'Nashik': 'Blue', 'Konkan': 'Green', 'Nagpur': 'Red'}\n"
     ]
    }
   ],
   "source": [
    "for ind, sol in enumerate(solutions, start=1):\n",
    "    print(f\"Solution {ind} : {sol}\")"
   ]
  },
  {
   "cell_type": "code",
   "execution_count": null,
   "id": "392cb58e",
   "metadata": {},
   "outputs": [],
   "source": []
  },
  {
   "cell_type": "code",
   "execution_count": 24,
   "id": "0c8340a5",
   "metadata": {},
   "outputs": [],
   "source": [
    "def crypt_solve():\n",
    "    problem = Problem()\n",
    "    \n",
    "    letters = [\"S\",\"E\",\"N\",\"D\",\"M\",\"O\",\"R\",\"Y\"]\n",
    "    domain = range(10)\n",
    "    \n",
    "    problem.addVariables(letters, domain)\n",
    "    \n",
    "    problem.addConstraint(AllDifferentConstraint(), letters)\n",
    "    \n",
    "    problem.addConstraint(lambda S, M : S != 0 and M != 0, (\"S\",\"M\"))\n",
    "    \n",
    "    problem.addConstraint(lambda S,E,N,D,M,O,R,Y : 1000*S + 100*E + 10*N + D +\n",
    "                         1000*M + 100*O + 10*R + E ==\n",
    "                         10000*M + 1000*O + 100*N + 10*E + Y, \n",
    "                         letters)\n",
    "    \n",
    "    solver = problem.getSolutions()\n",
    "    \n",
    "    return solver"
   ]
  },
  {
   "cell_type": "code",
   "execution_count": 25,
   "id": "5fab0611",
   "metadata": {},
   "outputs": [
    {
     "data": {
      "text/plain": [
       "[{'M': 1, 'S': 9, 'D': 7, 'E': 5, 'N': 6, 'O': 0, 'R': 8, 'Y': 2}]"
      ]
     },
     "execution_count": 25,
     "metadata": {},
     "output_type": "execute_result"
    }
   ],
   "source": [
    "crypt_solve()"
   ]
  },
  {
   "cell_type": "code",
   "execution_count": null,
   "id": "c1831660",
   "metadata": {},
   "outputs": [],
   "source": [
    "B:7, A:4, S:8, E:3, L:5, G:1, M:9"
   ]
  },
  {
   "cell_type": "code",
   "execution_count": 26,
   "id": "cb11da14",
   "metadata": {},
   "outputs": [],
   "source": [
    "def crypt_solve():\n",
    "    problem = Problem()\n",
    "    \n",
    "    letters = [\"B\",\"A\",\"S\",\"E\",\"L\",\"G\",\"M\"]\n",
    "    domain = range(10)\n",
    "    \n",
    "    problem.addVariables(letters, domain)\n",
    "    \n",
    "    problem.addConstraint(AllDifferentConstraint(), letters)\n",
    "    \n",
    "    problem.addConstraint(lambda B, G : B != 0 and G != 0, (\"B\",\"G\"))\n",
    "    \n",
    "    problem.addConstraint(lambda B,A,S,E,L,G,M :\n",
    "                         1000*B + 100*A + 10*S + E +\n",
    "                         1000*B + 100*A + 10*L + L ==\n",
    "                         10000*G + 1000*A + 100*M + 10*E + S, \n",
    "                         letters)\n",
    "    \n",
    "    solver = problem.getSolutions()\n",
    "    \n",
    "    return solver"
   ]
  },
  {
   "cell_type": "code",
   "execution_count": 27,
   "id": "200e001c",
   "metadata": {},
   "outputs": [
    {
     "data": {
      "text/plain": [
       "[{'B': 7, 'G': 1, 'A': 4, 'E': 3, 'L': 5, 'M': 9, 'S': 8}]"
      ]
     },
     "execution_count": 27,
     "metadata": {},
     "output_type": "execute_result"
    }
   ],
   "source": [
    "crypt_solve()"
   ]
  },
  {
   "cell_type": "code",
   "execution_count": 28,
   "id": "ca953b52",
   "metadata": {},
   "outputs": [
    {
     "ename": "NameError",
     "evalue": "name 'POINT' is not defined",
     "output_type": "error",
     "traceback": [
      "\u001b[1;31m---------------------------------------------------------------------------\u001b[0m",
      "\u001b[1;31mNameError\u001b[0m                                 Traceback (most recent call last)",
      "Cell \u001b[1;32mIn[28], line 1\u001b[0m\n\u001b[1;32m----> 1\u001b[0m POINT \u001b[38;5;241m+\u001b[39m ZERO \u001b[38;5;241m+\u001b[39m ENERGY\n\u001b[0;32m      3\u001b[0m P,O,I,N,T,Z,E,R,G,Y\n",
      "\u001b[1;31mNameError\u001b[0m: name 'POINT' is not defined"
     ]
    }
   ],
   "source": [
    "POINT + ZERO + ENERGY\n",
    "\n",
    "P,O,I,N,T,Z,E,R,G,Y"
   ]
  },
  {
   "cell_type": "code",
   "execution_count": 37,
   "id": "62d3a6ac",
   "metadata": {},
   "outputs": [],
   "source": [
    "def crypt_solve():\n",
    "    problem = Problem()\n",
    "    \n",
    "    letters = [\"P\",\"O\",\"I\",\"N\",\"T\",\"Z\",\"E\",\"R\",\"G\",\"Y\"]\n",
    "    domain = range(10)\n",
    "    \n",
    "    problem.addVariables(letters, domain)\n",
    "    \n",
    "    problem.addConstraint(AllDifferentConstraint(), letters)\n",
    "    \n",
    "    problem.addConstraint(lambda P, Z, E : P != 0 and Z != 0 and E != 0, (\"P\",\"Z\",\"E\"))\n",
    "    \n",
    "    problem.addConstraint(lambda P,O,I,N,T,Z,E,R,G,Y : \n",
    "                         10000*P + 1000*O + 100*I + 10*N + T +\n",
    "                                   1000*Z + 100*E + 10*R + O ==\n",
    "              100000*E + 10000*N + 1000*E + 100*R + 10*G + Y, \n",
    "                         letters)\n",
    "    \n",
    "    solver = problem.getSolutions()\n",
    "    \n",
    "    return solver"
   ]
  },
  {
   "cell_type": "code",
   "execution_count": 38,
   "id": "4fef8ce2",
   "metadata": {},
   "outputs": [
    {
     "data": {
      "text/plain": [
       "[{'E': 1,\n",
       "  'P': 9,\n",
       "  'Z': 3,\n",
       "  'G': 7,\n",
       "  'I': 5,\n",
       "  'N': 0,\n",
       "  'O': 8,\n",
       "  'R': 6,\n",
       "  'T': 4,\n",
       "  'Y': 2}]"
      ]
     },
     "execution_count": 38,
     "metadata": {},
     "output_type": "execute_result"
    }
   ],
   "source": [
    "crypt_solve()"
   ]
  },
  {
   "cell_type": "code",
   "execution_count": null,
   "id": "a73662f9",
   "metadata": {},
   "outputs": [],
   "source": []
  }
 ],
 "metadata": {
  "kernelspec": {
   "display_name": "Python 3 (ipykernel)",
   "language": "python",
   "name": "python3"
  },
  "language_info": {
   "codemirror_mode": {
    "name": "ipython",
    "version": 3
   },
   "file_extension": ".py",
   "mimetype": "text/x-python",
   "name": "python",
   "nbconvert_exporter": "python",
   "pygments_lexer": "ipython3",
   "version": "3.11.4"
  }
 },
 "nbformat": 4,
 "nbformat_minor": 5
}
