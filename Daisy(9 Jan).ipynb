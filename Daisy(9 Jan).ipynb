{
 "cells": [
  {
   "cell_type": "code",
   "execution_count": 12,
   "id": "bca9c539",
   "metadata": {},
   "outputs": [
    {
     "data": {
      "text/plain": [
       "-1"
      ]
     },
     "execution_count": 12,
     "metadata": {},
     "output_type": "execute_result"
    }
   ],
   "source": [
    "import cv2 as cv\n",
    "import numpy as np\n",
    "\n",
    "# img1 = cv.imread(\"daisy.jpg\")\n",
    "# img2 = cv.imread(\"img2.jpg\")\n",
    "# print(\"Orignal Image\",img.shape) # (826, 1200, 3) --height, Width, Channel (BGR)\n",
    "\n",
    "# 1) Image Resize\n",
    "# resized_img1 = cv.resize(img1, (600, 400))\n",
    "# resized_img2 = cv.resize(img2, (600, 400))\n",
    "# print(\"Resized Image\", resized_img.shape)\n",
    "\n",
    "# blue, green, red = resized_img[:, :, 0], resized_img[:, :, 1], resized_img[:, :, 2]\n",
    "# new_img = np.hstack((blue, green, red))\n",
    "\n",
    "# blurred_img = cv.GaussianBlur(resized_img, (5, 5), 5)\n",
    "# gray_img = cv.cvtColor(resized_img, cv.COLOR_BGR2GRAY)\n",
    "# edge = cv.Canny(gray_img, 50, 100)\n",
    "\n",
    "# flipped_img = cv.flip(resized_img, -1)\n",
    "\n",
    "# add = cv.add(resized_img1, resized_img2)\n",
    "# mul = cv.multiply(resized_img1, resized_img2)\n",
    "\n",
    "cap = cv.VideoCapture(0)\n",
    "\n",
    "if not cap.isOpened():\n",
    "    print(\"Error\")\n",
    "    exit()\n",
    "\n",
    "ret, frame = cap.read()\n",
    "\n",
    "img = cv.imwrite(\"Capture.jpg\", frame)\n",
    "cap.release()\n",
    "\n",
    "# cv.imshow(\"Flipped Daisy\", img)\n",
    "cv.waitKey(0)"
   ]
  },
  {
   "cell_type": "code",
   "execution_count": null,
   "id": "95b4e262",
   "metadata": {},
   "outputs": [],
   "source": []
  }
 ],
 "metadata": {
  "kernelspec": {
   "display_name": "Python 3 (ipykernel)",
   "language": "python",
   "name": "python3"
  },
  "language_info": {
   "codemirror_mode": {
    "name": "ipython",
    "version": 3
   },
   "file_extension": ".py",
   "mimetype": "text/x-python",
   "name": "python",
   "nbconvert_exporter": "python",
   "pygments_lexer": "ipython3",
   "version": "3.11.4"
  }
 },
 "nbformat": 4,
 "nbformat_minor": 5
}
