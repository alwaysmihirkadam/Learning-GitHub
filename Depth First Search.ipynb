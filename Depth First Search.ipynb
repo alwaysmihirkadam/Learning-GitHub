{
 "cells": [
  {
   "cell_type": "code",
   "execution_count": 3,
   "id": "cdf2d66f",
   "metadata": {},
   "outputs": [],
   "source": [
    "def DFS(graph, start, visited=None):\n",
    "    if visited is None:\n",
    "        visited = set()\n",
    "        \n",
    "    print(\"Visiting\", start)\n",
    "    visited.add(start)\n",
    "    \n",
    "    for neighbor in graph[start]:\n",
    "        if neighbor not in visited:\n",
    "            DFS(graph, neighbor, visited)"
   ]
  },
  {
   "cell_type": "code",
   "execution_count": 5,
   "id": "08fc12f9",
   "metadata": {},
   "outputs": [],
   "source": [
    "graph={'A':['B','C'],\n",
    "      'A':['D','E'],\n",
    "      'C':['F'],\n",
    "      'D':[],\n",
    "      'E':['F'],\n",
    "      'F':[],}"
   ]
  },
  {
   "cell_type": "code",
   "execution_count": 6,
   "id": "7e9de7a1",
   "metadata": {},
   "outputs": [
    {
     "data": {
      "text/plain": [
       "{'A': ['D', 'E'], 'C': ['F'], 'D': [], 'E': ['F'], 'F': []}"
      ]
     },
     "execution_count": 6,
     "metadata": {},
     "output_type": "execute_result"
    }
   ],
   "source": [
    "graph"
   ]
  },
  {
   "cell_type": "code",
   "execution_count": 7,
   "id": "786526e3",
   "metadata": {},
   "outputs": [
    {
     "name": "stdout",
     "output_type": "stream",
     "text": [
      "Visiting A\n",
      "Visiting D\n",
      "Visiting E\n",
      "Visiting F\n"
     ]
    }
   ],
   "source": [
    "DFS(graph, 'A')"
   ]
  },
  {
   "cell_type": "code",
   "execution_count": null,
   "id": "f7d178c6",
   "metadata": {},
   "outputs": [],
   "source": []
  }
 ],
 "metadata": {
  "kernelspec": {
   "display_name": "Python 3 (ipykernel)",
   "language": "python",
   "name": "python3"
  },
  "language_info": {
   "codemirror_mode": {
    "name": "ipython",
    "version": 3
   },
   "file_extension": ".py",
   "mimetype": "text/x-python",
   "name": "python",
   "nbconvert_exporter": "python",
   "pygments_lexer": "ipython3",
   "version": "3.11.4"
  }
 },
 "nbformat": 4,
 "nbformat_minor": 5
}
