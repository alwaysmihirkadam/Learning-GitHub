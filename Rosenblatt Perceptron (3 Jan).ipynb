{
 "cells": [
  {
   "cell_type": "code",
   "execution_count": 1,
   "id": "90273013",
   "metadata": {},
   "outputs": [],
   "source": [
    "import numpy as np"
   ]
  },
  {
   "cell_type": "code",
   "execution_count": 81,
   "id": "d8160514",
   "metadata": {},
   "outputs": [],
   "source": [
    "class RosenblattPerceptron:\n",
    "    def __init__(self, lr=0.1, epochs=100):\n",
    "        self.learning_rate = lr\n",
    "        self.epochs = epochs\n",
    "        \n",
    "    def step_function(self, x):\n",
    "        return 0 if x < 30 else 1\n",
    "    \n",
    "    def train(self, input, labels):\n",
    "        input_size = len(input[0])\n",
    "        self.weights = np.random.rand(input_size + 1)\n",
    "        \n",
    "        for i in range(self.epochs):\n",
    "            for inp, lab in zip(input, labels):\n",
    "                pred = self.predict(inp)\n",
    "                err = lab - pred\n",
    "                self.weights[1:] += self.learning_rate * err * inp\n",
    "                self.weights[0] += self.learning_rate * err\n",
    "                \n",
    "    def predict(self, inp):\n",
    "        summ = np.dot(inp, self.weights[1:]) + self.weights[0]\n",
    "        return self.step_function(summ)\n",
    "    \n",
    "    def get_weights(self):\n",
    "        return f\"w1 : {self.weights[1]}, w2 : {self.weights[2]}, bias: {self.weights[0]}\""
   ]
  },
  {
   "cell_type": "markdown",
   "id": "bcdd5b05",
   "metadata": {},
   "source": [
    "AND"
   ]
  },
  {
   "cell_type": "code",
   "execution_count": 20,
   "id": "bd27e049",
   "metadata": {},
   "outputs": [],
   "source": [
    "train_data = np.array([[0,0], [0,1], [1,0], [1,1]])\n",
    "labels = np.array([0, 0, 0, 1])"
   ]
  },
  {
   "cell_type": "code",
   "execution_count": 40,
   "id": "b4e7788c",
   "metadata": {},
   "outputs": [],
   "source": [
    "AndPerceptron = RosenblattPerceptron()"
   ]
  },
  {
   "cell_type": "code",
   "execution_count": 41,
   "id": "a4274038",
   "metadata": {},
   "outputs": [],
   "source": [
    "AndPerceptron.train(train_data, labels)"
   ]
  },
  {
   "cell_type": "code",
   "execution_count": 42,
   "id": "adadd381",
   "metadata": {},
   "outputs": [],
   "source": [
    "test_data = np.array([[0,0], [0,1], [1,0], [1,1]])"
   ]
  },
  {
   "cell_type": "code",
   "execution_count": 43,
   "id": "a4209d08",
   "metadata": {},
   "outputs": [
    {
     "name": "stdout",
     "output_type": "stream",
     "text": [
      "Input : [0 0] \t Predicted : 0\n",
      "Input : [0 1] \t Predicted : 1\n",
      "Input : [1 0] \t Predicted : 1\n",
      "Input : [1 1] \t Predicted : 1\n"
     ]
    }
   ],
   "source": [
    "for i in test_data:\n",
    "    print(f\"Input : {i} \\t Predicted : {perceptron.predict(i)}\")"
   ]
  },
  {
   "cell_type": "code",
   "execution_count": 85,
   "id": "299fbcc9",
   "metadata": {},
   "outputs": [
    {
     "ename": "AttributeError",
     "evalue": "'RosenblattPerceptron' object has no attribute 'get_weights'",
     "output_type": "error",
     "traceback": [
      "\u001b[1;31m---------------------------------------------------------------------------\u001b[0m",
      "\u001b[1;31mAttributeError\u001b[0m                            Traceback (most recent call last)",
      "Cell \u001b[1;32mIn[85], line 1\u001b[0m\n\u001b[1;32m----> 1\u001b[0m OrPerceptron\u001b[38;5;241m.\u001b[39mget_weights()\n",
      "\u001b[1;31mAttributeError\u001b[0m: 'RosenblattPerceptron' object has no attribute 'get_weights'"
     ]
    }
   ],
   "source": [
    "OrPerceptron.get_weights()"
   ]
  },
  {
   "cell_type": "markdown",
   "id": "536a3dfa",
   "metadata": {},
   "source": [
    "OR"
   ]
  },
  {
   "cell_type": "code",
   "execution_count": 44,
   "id": "15d8f70b",
   "metadata": {},
   "outputs": [],
   "source": [
    "train_data = np.array([[0,0],[0,1],[1,0],[1,1]])\n",
    "labels = np.array([0, 1, 1, 1])"
   ]
  },
  {
   "cell_type": "code",
   "execution_count": 45,
   "id": "8e248f37",
   "metadata": {},
   "outputs": [],
   "source": [
    "OrPerceptron = RosenblattPerceptron()"
   ]
  },
  {
   "cell_type": "code",
   "execution_count": 46,
   "id": "9fbbd661",
   "metadata": {},
   "outputs": [],
   "source": [
    "OrPerceptron.train(train_data, labels)"
   ]
  },
  {
   "cell_type": "code",
   "execution_count": 47,
   "id": "4907bb8e",
   "metadata": {},
   "outputs": [],
   "source": [
    "test_data = np.array([[0,0],[0,1],[1,0],[1,1]])"
   ]
  },
  {
   "cell_type": "code",
   "execution_count": 48,
   "id": "052c49af",
   "metadata": {},
   "outputs": [
    {
     "name": "stdout",
     "output_type": "stream",
     "text": [
      "Input : [0 0] \t Perceptron : 0\n",
      "Input : [0 1] \t Perceptron : 1\n",
      "Input : [1 0] \t Perceptron : 1\n",
      "Input : [1 1] \t Perceptron : 1\n"
     ]
    }
   ],
   "source": [
    "for i in test_data:\n",
    "    print(f\"Input : {i} \\t Perceptron : {perceptron.predict(i)}\")"
   ]
  },
  {
   "cell_type": "markdown",
   "id": "26d78fba",
   "metadata": {},
   "source": [
    "NAND"
   ]
  },
  {
   "cell_type": "code",
   "execution_count": 63,
   "id": "f4d8bd5d",
   "metadata": {},
   "outputs": [],
   "source": [
    "Nandtrain_data = np.array([[0,0],[0,1],[1,0],[1,1]])\n",
    "Nandlabels = np.array([1,1,1,0])"
   ]
  },
  {
   "cell_type": "code",
   "execution_count": 80,
   "id": "0441ceda",
   "metadata": {},
   "outputs": [],
   "source": [
    "NandPerceptron = RosenblattPerceptron(lr = 1.5, epochs = 1000)"
   ]
  },
  {
   "cell_type": "code",
   "execution_count": 77,
   "id": "9fbde358",
   "metadata": {},
   "outputs": [],
   "source": [
    "NandPerceptron.train(Nandtrain_data, Nandlabels)"
   ]
  },
  {
   "cell_type": "code",
   "execution_count": 78,
   "id": "1aaaa2df",
   "metadata": {},
   "outputs": [],
   "source": [
    "Nandtest_data = np.array([[0,0],[0,1],[1,0],[1,1]])"
   ]
  },
  {
   "cell_type": "code",
   "execution_count": 79,
   "id": "15b77e95",
   "metadata": {},
   "outputs": [
    {
     "name": "stdout",
     "output_type": "stream",
     "text": [
      "Input : [0 0] \t Perceptron : 1\n",
      "Input : [0 1] \t Perceptron : 1\n",
      "Input : [1 0] \t Perceptron : 1\n",
      "Input : [1 1] \t Perceptron : 0\n"
     ]
    }
   ],
   "source": [
    "for i in Nandtest_data:\n",
    "    print(f\"Input : {i} \\t Perceptron : {NandPerceptron.predict(i)}\")"
   ]
  },
  {
   "cell_type": "code",
   "execution_count": 84,
   "id": "ad806a14",
   "metadata": {},
   "outputs": [
    {
     "ename": "AttributeError",
     "evalue": "'RosenblattPerceptron' object has no attribute 'get_weights'",
     "output_type": "error",
     "traceback": [
      "\u001b[1;31m---------------------------------------------------------------------------\u001b[0m",
      "\u001b[1;31mAttributeError\u001b[0m                            Traceback (most recent call last)",
      "Cell \u001b[1;32mIn[84], line 1\u001b[0m\n\u001b[1;32m----> 1\u001b[0m NandPerceptron\u001b[38;5;241m.\u001b[39mget_weights()\n",
      "\u001b[1;31mAttributeError\u001b[0m: 'RosenblattPerceptron' object has no attribute 'get_weights'"
     ]
    }
   ],
   "source": [
    "NandPerceptron.get_weights()"
   ]
  },
  {
   "cell_type": "code",
   "execution_count": null,
   "id": "edad5f84",
   "metadata": {},
   "outputs": [],
   "source": []
  }
 ],
 "metadata": {
  "kernelspec": {
   "display_name": "Python 3 (ipykernel)",
   "language": "python",
   "name": "python3"
  },
  "language_info": {
   "codemirror_mode": {
    "name": "ipython",
    "version": 3
   },
   "file_extension": ".py",
   "mimetype": "text/x-python",
   "name": "python",
   "nbconvert_exporter": "python",
   "pygments_lexer": "ipython3",
   "version": "3.11.4"
  }
 },
 "nbformat": 4,
 "nbformat_minor": 5
}
