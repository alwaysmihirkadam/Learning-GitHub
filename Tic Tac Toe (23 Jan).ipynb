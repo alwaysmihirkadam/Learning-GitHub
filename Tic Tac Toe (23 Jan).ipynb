{
 "cells": [
  {
   "cell_type": "markdown",
   "id": "170c64b8",
   "metadata": {},
   "source": [
    "1) Print Board\n",
    "2) Winner -> 1-AI, 0-Tie, -1-Human\n",
    "3) Board Full -> To check the tie position\n",
    "4) Empty Cell -> For the next AI Move\n",
    "5) Minimax Algorithm\n",
    "6) Best Move\n",
    "7) Game Play"
   ]
  },
  {
   "cell_type": "code",
   "execution_count": null,
   "id": "601b5d12",
   "metadata": {},
   "outputs": [],
   "source": [
    "def print_board(board):\n",
    "    for row in board:\n",
    "        print(\" | \".join(row))\n",
    "        print(\"-\"*6)"
   ]
  },
  {
   "cell_type": "code",
   "execution_count": null,
   "id": "42ecadb4",
   "metadata": {},
   "outputs": [],
   "source": [
    "def is_winner(board, player): \n",
    "    for row in board:\n",
    "        if all(cell == player for cell in row):\n",
    "            return True\n",
    "    for col in range(3):\n",
    "        if all(row[col] == player for row in board):\n",
    "            return True\n",
    "    if all(board[i][i]==player for i in range(3)) or all(board[i][2-i]==player for i in range(3)):\n",
    "        return True\n",
    "\n",
    "    return False"
   ]
  },
  {
   "cell_type": "code",
   "execution_count": null,
   "id": "d65a1e91",
   "metadata": {},
   "outputs": [],
   "source": [
    "def is_board_full(board):\n",
    "    return all(cell!=\" \" for row in board for cell in row)"
   ]
  },
  {
   "cell_type": "code",
   "execution_count": null,
   "id": "569d3144",
   "metadata": {},
   "outputs": [],
   "source": [
    "def get_empty_cell(board):\n",
    "    return [(i, j) for i in range(3) for j in range(3) if board[i][j]==\" \"]"
   ]
  },
  {
   "cell_type": "code",
   "execution_count": null,
   "id": "f83288f9",
   "metadata": {},
   "outputs": [],
   "source": [
    "def minimax(board, depth, is_maximizer):\n",
    "    if is_winner(board, \"O\"):\n",
    "        return 1\n",
    "\n",
    "    elif is_winner(board, \"X\"):\n",
    "        return -1\n",
    "\n",
    "    elif is_board_full(board):\n",
    "        return 0\n",
    "\n",
    "    if is_maximizer:\n",
    "        max_eval = float(\"-inf\")\n",
    "        for i, j in get_empty_cell(board):\n",
    "            board[i][j] = \"O\"\n",
    "            eval= minimax(board, depth+1, False)\n",
    "            board[i][j] = \" \"\n",
    "            max_eval = max(max_eval, eval)\n",
    "        return max_eval\n",
    "    else:\n",
    "        min_eval = float(\"inf\")\n",
    "        for i, j in get_empty_cell(board):\n",
    "            board[i][j] = \"X\"\n",
    "            eval = minimax(board, 0, True)\n",
    "            board[i][j] = \" \"\n",
    "            min_eval = min(min_eval, eval)\n",
    "        return min_eval"
   ]
  },
  {
   "cell_type": "code",
   "execution_count": null,
   "id": "4293e055",
   "metadata": {},
   "outputs": [],
   "source": [
    "def best_move(board):\n",
    "    best_val = float(\"-inf\")\n",
    "    best_move = None\n",
    "    for i, j in get_empty_cell(board):\n",
    "        board[i][j] = \"O\"\n",
    "        move_val = minimax(board, 0, False)\n",
    "        board[i][j] = \" \"\n",
    "        if move_val > best_val:\n",
    "            best_move = (i, j)\n",
    "            best_val = move_val\n",
    "    return best_move"
   ]
  },
  {
   "cell_type": "code",
   "execution_count": null,
   "id": "50bc5f0b",
   "metadata": {},
   "outputs": [],
   "source": [
    "def main():\n",
    "    board = [[\" \" for _ in range(3)] for _ in range(3)]\n",
    "\n",
    "    while True:\n",
    "        print_board(board)\n",
    "\n",
    "        row = int(input(\"Enter the row (0, 1, 2) :\"))\n",
    "        col = int(input(\"Enter the column (0, 1, 2) :\"))\n",
    "        if board[row][col] == \" \":\n",
    "            board[row][col] = \"X\"\n",
    "        else:\n",
    "            print(\"Already Filled, Try Again\")\n",
    "            continue\n",
    "\n",
    "        if is_winner(board, \"X\"):\n",
    "            print_board(board)\n",
    "            print(\"You Win\")\n",
    "            break\n",
    "        elif is_board_full(board):\n",
    "            print_board(board)\n",
    "            print(\"Ohhhh it's a Tie\")\n",
    "            break\n",
    "        \n",
    "        print_board(board)\n",
    "        print(\"AI Thinking...\")\n",
    "        ai_row, ai_col = best_move(board)\n",
    "        board[ai_row][ai_col] = \"O\"\n",
    "\n",
    "        if is_winner(board, \"O\"):\n",
    "            print_board(board)\n",
    "            print(\"AI Wins\")\n",
    "            break\n",
    "        elif is_board_full(board):\n",
    "            print_board(board)\n",
    "            print(\"Ohhhh it's a Tie\")\n",
    "            break"
   ]
  },
  {
   "cell_type": "code",
   "execution_count": null,
   "id": "947cb538",
   "metadata": {},
   "outputs": [],
   "source": [
    "if __name__ == \"__main__\":\n",
    "    main()"
   ]
  },
  {
   "cell_type": "code",
   "execution_count": null,
   "id": "e791fd7e",
   "metadata": {},
   "outputs": [],
   "source": []
  },
  {
   "cell_type": "code",
   "execution_count": null,
   "id": "092cdd16",
   "metadata": {},
   "outputs": [],
   "source": []
  }
 ],
 "metadata": {
  "kernelspec": {
   "display_name": "Python 3 (ipykernel)",
   "language": "python",
   "name": "python3"
  },
  "language_info": {
   "codemirror_mode": {
    "name": "ipython",
    "version": 3
   },
   "file_extension": ".py",
   "mimetype": "text/x-python",
   "name": "python",
   "nbconvert_exporter": "python",
   "pygments_lexer": "ipython3",
   "version": "3.11.4"
  }
 },
 "nbformat": 4,
 "nbformat_minor": 5
}
